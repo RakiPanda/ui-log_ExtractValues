{
 "cells": [
  {
   "cell_type": "markdown",
   "metadata": {},
   "source": [
    "マウスの総移動距離を算出"
   ]
  },
  {
   "cell_type": "code",
   "execution_count": null,
   "metadata": {},
   "outputs": [
    {
     "name": "stdout",
     "output_type": "stream",
     "text": [
      "結果を mouse_distances.csv に保存しました。\n"
     ]
    }
   ],
   "source": [
    "import os\n",
    "import math\n",
    "\n",
    "def calculate_distance(file_path):\n",
    "    \"\"\"\n",
    "    指定されたファイルからマウスの総移動距離を計算する\n",
    "    \"\"\"\n",
    "    total_distance = 0.0\n",
    "    last_position = None\n",
    "\n",
    "    with open(file_path, 'r', encoding='utf-8') as file:\n",
    "        for line in file:\n",
    "            # マウスの移動に関する行を抽出\n",
    "            if line.startswith(\"MOUSE_MOVED\") or line.startswith(\"MOUSE_DRAGGED\"):\n",
    "                try:\n",
    "                    parts = line.strip().split(\":\")\n",
    "                    x, y = map(int, parts[-1].strip().strip(\"()\").split(\",\"))\n",
    "                    current_position = (x, y)\n",
    "\n",
    "                    if last_position is not None:\n",
    "                        # 前回の位置からの距離を計算\n",
    "                        distance = math.sqrt((current_position[0] - last_position[0])**2 +\n",
    "                                             (current_position[1] - last_position[1])**2)\n",
    "                        total_distance += distance\n",
    "\n",
    "                    last_position = current_position\n",
    "                except Exception as e:\n",
    "                    print(f\"Error processing line: {line}. Error: {e}\")\n",
    "    return total_distance\n",
    "\n",
    "def process_logs(base_folder_path, output_file):\n",
    "    \"\"\"\n",
    "    各フォルダのログファイルを処理し、総移動距離を計算して保存する\n",
    "    \"\"\"\n",
    "    results = []\n",
    "\n",
    "    for i in range(1, 26):  # フォルダ番号の範囲を指定（例: 1〜25）\n",
    "        folder_number = f\"{i:02d}\"\n",
    "        folder_path = os.path.join(base_folder_path, folder_number, \"logs\")\n",
    "\n",
    "        if os.path.exists(folder_path):\n",
    "            for file_name in os.listdir(folder_path):\n",
    "                if file_name.startswith(\"ui-log\") and file_name.endswith(\".txt\"):\n",
    "                    file_path = os.path.join(folder_path, file_name)\n",
    "                    total_distance = calculate_distance(file_path)\n",
    "                    results.append((folder_number, file_name, total_distance))\n",
    "\n",
    "    # 結果をファイルに保存\n",
    "    with open(output_file, 'w', encoding='utf-8') as output:\n",
    "        output.write(\"Subject,File,Total Distance\\n\")\n",
    "        for folder, file_name, distance in results:\n",
    "            output.write(f\"{folder},{file_name},{distance:.2f}\\n\")\n",
    "\n",
    "    print(f\"結果を {output_file} に保存しました。\")\n",
    "\n",
    "# ベースフォルダのパスと出力ファイル名を指定\n",
    "base_folder_path = r\".\\SubjectData\"\n",
    "output_file = \"mouse_distances.csv\"\n",
    "\n",
    "process_logs(base_folder_path, output_file)\n"
   ]
  }
 ],
 "metadata": {
  "kernelspec": {
   "display_name": "Python 3",
   "language": "python",
   "name": "python3"
  },
  "language_info": {
   "codemirror_mode": {
    "name": "ipython",
    "version": 3
   },
   "file_extension": ".py",
   "mimetype": "text/x-python",
   "name": "python",
   "nbconvert_exporter": "python",
   "pygments_lexer": "ipython3",
   "version": "3.12.3"
  }
 },
 "nbformat": 4,
 "nbformat_minor": 2
}
