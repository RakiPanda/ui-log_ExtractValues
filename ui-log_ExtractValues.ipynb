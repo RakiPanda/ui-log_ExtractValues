{
 "cells": [
  {
   "cell_type": "markdown",
   "metadata": {},
   "source": [
    "マウスの総移動距離を算出"
   ]
  },
  {
   "cell_type": "code",
   "execution_count": null,
   "metadata": {},
   "outputs": [
    {
     "ename": "ValueError",
     "evalue": "too many values to unpack (expected 3)",
     "output_type": "error",
     "traceback": [
      "\u001b[1;31m---------------------------------------------------------------------------\u001b[0m",
      "\u001b[1;31mValueError\u001b[0m                                Traceback (most recent call last)",
      "Cell \u001b[1;32mIn[3], line 70\u001b[0m\n\u001b[0;32m     67\u001b[0m base_folder_path \u001b[38;5;241m=\u001b[39m \u001b[38;5;124mr\u001b[39m\u001b[38;5;124m\"\u001b[39m\u001b[38;5;124m.\u001b[39m\u001b[38;5;124m\\\u001b[39m\u001b[38;5;124mSubjectData\u001b[39m\u001b[38;5;124m\"\u001b[39m\n\u001b[0;32m     68\u001b[0m output_file \u001b[38;5;241m=\u001b[39m \u001b[38;5;124m\"\u001b[39m\u001b[38;5;124mmouse_distances.csv\u001b[39m\u001b[38;5;124m\"\u001b[39m\n\u001b[1;32m---> 70\u001b[0m \u001b[43mprocess_logs\u001b[49m\u001b[43m(\u001b[49m\u001b[43mbase_folder_path\u001b[49m\u001b[43m,\u001b[49m\u001b[43m \u001b[49m\u001b[43moutput_file\u001b[49m\u001b[43m)\u001b[49m\n",
      "Cell \u001b[1;32mIn[3], line 61\u001b[0m, in \u001b[0;36mprocess_logs\u001b[1;34m(base_folder_path, output_file)\u001b[0m\n\u001b[0;32m     59\u001b[0m \u001b[38;5;28;01mwith\u001b[39;00m \u001b[38;5;28mopen\u001b[39m(output_file, \u001b[38;5;124m'\u001b[39m\u001b[38;5;124mw\u001b[39m\u001b[38;5;124m'\u001b[39m, encoding\u001b[38;5;241m=\u001b[39m\u001b[38;5;124m'\u001b[39m\u001b[38;5;124mutf-8\u001b[39m\u001b[38;5;124m'\u001b[39m) \u001b[38;5;28;01mas\u001b[39;00m output:\n\u001b[0;32m     60\u001b[0m     output\u001b[38;5;241m.\u001b[39mwrite(\u001b[38;5;124m\"\u001b[39m\u001b[38;5;124mSubject,File,Total Distance\u001b[39m\u001b[38;5;130;01m\\n\u001b[39;00m\u001b[38;5;124m\"\u001b[39m)\n\u001b[1;32m---> 61\u001b[0m     \u001b[38;5;28;01mfor\u001b[39;00m folder, file_name, distance \u001b[38;5;129;01min\u001b[39;00m results:\n\u001b[0;32m     62\u001b[0m         output\u001b[38;5;241m.\u001b[39mwrite(\u001b[38;5;124mf\u001b[39m\u001b[38;5;124m\"\u001b[39m\u001b[38;5;132;01m{\u001b[39;00mfolder\u001b[38;5;132;01m}\u001b[39;00m\u001b[38;5;124m,\u001b[39m\u001b[38;5;132;01m{\u001b[39;00mfile_name\u001b[38;5;132;01m}\u001b[39;00m\u001b[38;5;124m,\u001b[39m\u001b[38;5;132;01m{\u001b[39;00mdistance\u001b[38;5;132;01m:\u001b[39;00m\u001b[38;5;124m.2f\u001b[39m\u001b[38;5;132;01m}\u001b[39;00m\u001b[38;5;130;01m\\n\u001b[39;00m\u001b[38;5;124m\"\u001b[39m)\n\u001b[0;32m     64\u001b[0m \u001b[38;5;28mprint\u001b[39m(\u001b[38;5;124mf\u001b[39m\u001b[38;5;124m\"\u001b[39m\u001b[38;5;124m結果を \u001b[39m\u001b[38;5;132;01m{\u001b[39;00moutput_file\u001b[38;5;132;01m}\u001b[39;00m\u001b[38;5;124m に保存しました。\u001b[39m\u001b[38;5;124m\"\u001b[39m)\n",
      "\u001b[1;31mValueError\u001b[0m: too many values to unpack (expected 3)"
     ]
    }
   ],
   "source": [
    "import os\n",
    "import math\n",
    "\n",
    "def calculate_distance(file_path):\n",
    "    \"\"\"\n",
    "    指定されたファイルからマウスの総移動距離を計算する\n",
    "    \"\"\"\n",
    "    total_distance = 0.0\n",
    "    last_position = None\n",
    "\n",
    "    with open(file_path, 'r', encoding='utf-8') as file:\n",
    "        for line in file:\n",
    "            # マウスの移動に関する行を抽出\n",
    "            if line.startswith(\"MOUSE_MOVED\") or line.startswith(\"MOUSE_DRAGGED\"):\n",
    "                try:\n",
    "                    parts = line.strip().split(\":\")\n",
    "                    x, y = map(int, parts[-1].strip().strip(\"()\").split(\",\"))\n",
    "                    current_position = (x, y)\n",
    "\n",
    "                    if last_position is not None:\n",
    "                        # 前回の位置からの距離を計算\n",
    "                        distance = math.sqrt((current_position[0] - last_position[0])**2 +\n",
    "                                             (current_position[1] - last_position[1])**2)\n",
    "                        total_distance += distance\n",
    "\n",
    "                    last_position = current_position\n",
    "                except Exception as e:\n",
    "                    print(f\"Error processing line: {line}. Error: {e}\")\n",
    "    return total_distance\n",
    "\n",
    "def process_logs(base_folder_path, output_file):\n",
    "    \"\"\"\n",
    "    各フォルダのログファイルを処理し、総移動距離を計算して保存する\n",
    "    \"\"\"\n",
    "    results = []\n",
    "\n",
    "    for i in range(1, 26):  # フォルダ番号の範囲を指定（例: 1〜25）\n",
    "        subject_number = f\"{i:02d}\"\n",
    "        folder_path = os.path.join(base_folder_path, subject_number, \"logs\")\n",
    "\n",
    "        if os.path.exists(folder_path):\n",
    "            log_files = [file for file in os.listdir(folder_path) if file.startswith(\"ui-log\") and file.endswith(\".txt\")]\n",
    "            # 日付の昇順でソート\n",
    "            log_files.sort()\n",
    "\n",
    "            for index, file_name in enumerate(log_files):\n",
    "                file_path = os.path.join(folder_path, file_name)\n",
    "                total_distance = calculate_distance(file_path)\n",
    "\n",
    "                # Taskの決定\n",
    "                if index == 0:\n",
    "                    task = \"training\"\n",
    "                else:\n",
    "                    task = f\"task_{index:02d}\"\n",
    "\n",
    "                results.append((subject_number, file_name, task, total_distance))\n",
    "\n",
    "    # 結果をファイルに保存\n",
    "    with open(output_file, 'w', encoding='utf-8') as output:\n",
    "        output.write(\"Subject,File,Total Distance\\n\")\n",
    "        for subject, file_name, task, distance in results:\n",
    "            output.write(f\"{subject},{file_name},{task},{distance:.2f}\\n\")\n",
    "            \n",
    "    print(f\"結果を {output_file} に保存しました。\")\n",
    "\n",
    "# ベースフォルダのパスと出力ファイル名を指定\n",
    "base_folder_path = r\".\\SubjectData\"\n",
    "output_file = \"mouse_distances.csv\"\n",
    "\n",
    "process_logs(base_folder_path, output_file)\n"
   ]
  }
 ],
 "metadata": {
  "kernelspec": {
   "display_name": "Python 3",
   "language": "python",
   "name": "python3"
  },
  "language_info": {
   "codemirror_mode": {
    "name": "ipython",
    "version": 3
   },
   "file_extension": ".py",
   "mimetype": "text/x-python",
   "name": "python",
   "nbconvert_exporter": "python",
   "pygments_lexer": "ipython3",
   "version": "3.12.3"
  }
 },
 "nbformat": 4,
 "nbformat_minor": 2
}
